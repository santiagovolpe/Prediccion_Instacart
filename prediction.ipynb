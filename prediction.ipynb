{
 "cells": [
  {
   "cell_type": "code",
   "execution_count": 1,
   "id": "412d76d2",
   "metadata": {},
   "outputs": [],
   "source": [
    "import pandas as pd\n",
    "import gc\n",
    "import numpy as np"
   ]
  },
  {
   "cell_type": "code",
   "execution_count": 2,
   "id": "54676393",
   "metadata": {},
   "outputs": [],
   "source": [
    "# reemplazar con la dirección del archivo descargado\n",
    "products = pd.read_csv('C:\\\\Users\\\\Usuario\\\\Downloads\\\\archive\\\\products.csv') \n",
    "train_orders = pd.read_csv('C:\\\\Users\\\\Usuario\\\\Downloads\\\\archive\\\\order_products__train.csv', nrows= 200000)\n",
    "# las ordenes prior tienen mas de 30 millones de filas, para reducir intentamos con 1 millon\n",
    "prior_orders = pd.read_csv('C:\\\\Users\\\\Usuario\\\\Downloads\\\\archive\\\\order_products__prior.csv', nrows= 1000000) \n",
    "orders = pd.read_csv('C:\\\\Users\\\\Usuario\\\\Downloads\\\\archive\\\\orders.csv')\n",
    "#aisles = pd.read_csv('C:\\\\Users\\\\Usuario\\\\Downloads\\\\archive\\\\aisles.csv')\n",
    "#departments = pd.read_csv('C:\\\\Users\\\\Usuario\\\\Downloads\\\\archive\\\\departments.csv')"
   ]
  },
  {
   "cell_type": "code",
   "execution_count": 3,
   "id": "08e381cf",
   "metadata": {},
   "outputs": [
    {
     "name": "stdout",
     "output_type": "stream",
     "text": [
      "Index(['order_id', 'user_id', 'eval_set', 'order_number', 'order_dow',\n",
      "       'order_hour_of_day', 'days_since_prior_order'],\n",
      "      dtype='object')\n"
     ]
    }
   ],
   "source": [
    "print(orders.columns)"
   ]
  },
  {
   "cell_type": "code",
   "execution_count": 4,
   "id": "0732ef45",
   "metadata": {},
   "outputs": [
    {
     "name": "stdout",
     "output_type": "stream",
     "text": [
      "Index(['order_id', 'user_id', 'eval_set', 'order_number', 'order_dow',\n",
      "       'order_hour_of_day', 'days_since_prior_order'],\n",
      "      dtype='object')\n",
      "Index(['order_id', 'product_id', 'add_to_cart_order', 'reordered'], dtype='object')\n"
     ]
    }
   ],
   "source": [
    "print(orders.columns)\n",
    "print(prior_orders.columns)"
   ]
  },
  {
   "cell_type": "code",
   "execution_count": 5,
   "id": "2020c995",
   "metadata": {},
   "outputs": [],
   "source": [
    "orders_past = orders[orders[\"eval_set\"] == \"prior\"]\n",
    "orders_past = orders_past.drop([\"eval_set\"], axis=1)\n",
    "# juntamos toda la información de cada orden en un data frame\n",
    "prior = prior_orders.merge(orders_past, on=\"order_id\", how=\"left\")"
   ]
  },
  {
   "cell_type": "code",
   "execution_count": 6,
   "id": "f3cc6236",
   "metadata": {},
   "outputs": [
    {
     "data": {
      "text/plain": [
       "404"
      ]
     },
     "execution_count": 6,
     "metadata": {},
     "output_type": "execute_result"
    }
   ],
   "source": [
    "# usamos estas funciones para ahorrar espacio\n",
    "# cuando no necesitamos más un data frame, lo borramos\n",
    "del prior_orders, orders_past\n",
    "gc.collect()"
   ]
  },
  {
   "cell_type": "code",
   "execution_count": 7,
   "id": "ed45ea31",
   "metadata": {},
   "outputs": [],
   "source": [
    "orders_present = orders[orders[\"eval_set\"]== \"train\"]\n",
    "orders_present = orders_present.drop([\"eval_set\"], axis=1)\n",
    "present = train_orders.merge(orders_present, on=\"order_id\", how=\"left\")"
   ]
  },
  {
   "cell_type": "code",
   "execution_count": 8,
   "id": "2b029d3a",
   "metadata": {},
   "outputs": [
    {
     "data": {
      "text/plain": [
       "0"
      ]
     },
     "execution_count": 8,
     "metadata": {},
     "output_type": "execute_result"
    }
   ],
   "source": [
    "del train_orders, orders, orders_present\n",
    "gc.collect()"
   ]
  },
  {
   "cell_type": "code",
   "execution_count": 9,
   "id": "91a32b09",
   "metadata": {},
   "outputs": [],
   "source": [
    "# vemos los usuarios que tenemos en comun entre las ordenes pasada y las actuales\n",
    "common_users = set(present['user_id']).intersection(set(prior['user_id']))"
   ]
  },
  {
   "cell_type": "code",
   "execution_count": null,
   "id": "b582f3cc",
   "metadata": {},
   "outputs": [],
   "source": [
    "# nos quedamos solo con esos usuarios (solo usar si no se quiere intentar predecir en usuarios nuevos)\n",
    "present = present[present['user_id'].isin(common_users)]\n",
    "prior = prior[prior['user_id'].isin(common_users)]"
   ]
  },
  {
   "cell_type": "code",
   "execution_count": 10,
   "id": "7c225220",
   "metadata": {},
   "outputs": [
    {
     "name": "stdout",
     "output_type": "stream",
     "text": [
      "18926\n",
      "67036\n",
      "6282\n"
     ]
    }
   ],
   "source": [
    "print(len((present['user_id']).unique()))\n",
    "print(len((prior['user_id']).unique()))\n",
    "print(len(common_users))"
   ]
  },
  {
   "cell_type": "code",
   "execution_count": null,
   "id": "0922b0cf",
   "metadata": {},
   "outputs": [
    {
     "name": "stdout",
     "output_type": "stream",
     "text": [
      "(200000, 9)\n",
      "(1000000, 9)\n"
     ]
    }
   ],
   "source": [
    "# para saber las dimensiones de nuestro data frame \n",
    "# habrán cambiado si es que nos quedamos con los usuarios en común solamente\n",
    "print(present.shape)\n",
    "print(prior.shape)"
   ]
  },
  {
   "cell_type": "code",
   "execution_count": null,
   "id": "bfb73b12",
   "metadata": {},
   "outputs": [],
   "source": [
    "# Count how many times each user-product pair appears\n",
    "user_product_counts = prior.groupby(['user_id', 'product_id']).size()\n",
    "\n",
    "# Identify first-time purchases (should be where count == 1 and reordered == 0)\n",
    "first_time_purchases = prior[(prior['reordered'] == 0)]\n",
    "\n",
    "# See if there are any reordered = 0 where the user has bought the product before\n",
    "# (i.e., check for any inconsistencies)\n",
    "reordered_zero_duplicates = first_time_purchases.duplicated(subset=['user_id', 'product_id'], keep=False)\n",
    "\n",
    "print(reordered_zero_duplicates.any())  # Should be False if reordered=0 means first-time\n"
   ]
  },
  {
   "cell_type": "code",
   "execution_count": null,
   "id": "9ee61eca",
   "metadata": {},
   "outputs": [],
   "source": [
    "# estas columnas podrían ser muy influyentes\n",
    "# la mayoría de nuestros negativos serán combinaciones de usuario-producto no existentes previamente\n",
    "present = present.drop('order_number', axis = 1)\n",
    "prior = prior.drop('order_number', axis = 1)\n",
    "present = present.drop('reordered', axis = 1)\n",
    "prior = prior.drop('reordered', axis = 1)"
   ]
  },
  {
   "cell_type": "code",
   "execution_count": 13,
   "id": "b9d56413",
   "metadata": {},
   "outputs": [
    {
     "name": "stdout",
     "output_type": "stream",
     "text": [
      "Index(['order_id', 'product_id', 'add_to_cart_order', 'user_id', 'order_dow',\n",
      "       'order_hour_of_day', 'days_since_prior_order'],\n",
      "      dtype='object')\n",
      "Index(['order_id', 'product_id', 'add_to_cart_order', 'user_id', 'order_dow',\n",
      "       'order_hour_of_day', 'days_since_prior_order'],\n",
      "      dtype='object')\n"
     ]
    }
   ],
   "source": [
    "print(present.columns)\n",
    "print(prior.columns)"
   ]
  },
  {
   "cell_type": "code",
   "execution_count": null,
   "id": "4be8388c",
   "metadata": {},
   "outputs": [],
   "source": [
    "# creamos filas flasas basadas en las filas reales\n",
    "def sample_negatives_per_user(present_orders_df, all_products, n_neg=5):\n",
    "    user_to_products = present_orders_df.groupby('user_id')['product_id'].apply(set).to_dict()\n",
    "    user_context = present_orders_df.drop_duplicates('user_id').set_index('user_id')[\n",
    "        ['order_id', 'order_hour_of_day', 'order_dow', 'add_to_cart_order', 'days_since_prior_order']\n",
    "    ].to_dict('index')\n",
    "\n",
    "# estas se crearán a partir de la diferencia entre todos los productos y los que si compró el usuario\n",
    "    negatives = []\n",
    "    for user, bought_prods in user_to_products.items():\n",
    "        candidates = list(all_products - bought_prods)\n",
    "        sampled = np.random.choice(candidates, size=min(n_neg, len(candidates)), replace=False)\n",
    "        context = user_context[user]\n",
    "        for prod in sampled:\n",
    "            negatives.append({\n",
    "                'order_id': context['order_id'],\n",
    "                'product_id': prod,\n",
    "                'add_to_cart_order': context['add_to_cart_order'],\n",
    "                'user_id': user,\n",
    "                'order_dow': context['order_dow'],\n",
    "                'order_hour_of_day': context['order_hour_of_day'],\n",
    "                'days_since_prior_order': context['days_since_prior_order'],\n",
    "                'label': 0\n",
    "            })\n",
    "    return pd.DataFrame(negatives)\n"
   ]
  },
  {
   "cell_type": "code",
   "execution_count": null,
   "id": "d85aa589",
   "metadata": {},
   "outputs": [],
   "source": [
    "# Positivas\n",
    "pos_df = present\n",
    "pos_df['label'] = 1\n",
    "\n",
    "# Negativas\n",
    "all_products = set(products['product_id'].unique())\n",
    "neg_df = sample_negatives_per_user(present, all_products, n_neg=5)\n",
    "\n",
    "# Combinar\n",
    "combined = pd.concat([pos_df, neg_df], ignore_index=True)\n"
   ]
  },
  {
   "cell_type": "code",
   "execution_count": 18,
   "id": "46d11ca8",
   "metadata": {},
   "outputs": [
    {
     "data": {
      "text/plain": [
       "750"
      ]
     },
     "execution_count": 18,
     "metadata": {},
     "output_type": "execute_result"
    }
   ],
   "source": [
    "del pos_df, products, neg_df, present\n",
    "gc.collect()"
   ]
  },
  {
   "cell_type": "code",
   "execution_count": 19,
   "id": "08d61231",
   "metadata": {},
   "outputs": [],
   "source": [
    "# Product features\n",
    "product_feats = prior.groupby('product_id').agg(\n",
    "    prod_total_orders=('order_id', 'count'),\n",
    "    prod_common_cart_position=('add_to_cart_order', lambda x: x.mode().iloc[0]),\n",
    "    prod_common_hour=('order_hour_of_day', lambda x: x.mode().iloc[0]),\n",
    "    prod_avg_hour=('order_hour_of_day', 'mean'),\n",
    "    prod_std_hour=('order_hour_of_day', 'std'),\n",
    "    prod_common_day=('order_dow', lambda x: x.mode().iloc[0])\n",
    ").reset_index()"
   ]
  },
  {
   "cell_type": "code",
   "execution_count": null,
   "id": "93d3e7da",
   "metadata": {},
   "outputs": [],
   "source": [
    "# features de interacciones entre usuario y producto\n",
    "user_prod_feats = prior.groupby(['user_id', 'product_id']).agg(\n",
    "    most_common_day=('order_dow', lambda x: x.mode().iloc[0]),\n",
    "    common_hour = ('order_hour_of_day', lambda x: x.mode().iloc[0]),\n",
    "    avg_hour = ('order_hour_of_day', 'mean'),\n",
    "    std_hour = ('order_hour_of_day', 'std'),\n",
    "    order_count=('order_id', 'count'),\n",
    "    common_cart_pos=('add_to_cart_order', lambda x: x.mode().iloc[0]),\n",
    "    avg_days_between_orders=('days_since_prior_order', 'mean'),\n",
    "    std_days_between_orders=('days_since_prior_order', 'std')\n",
    ").reset_index()"
   ]
  },
  {
   "cell_type": "code",
   "execution_count": 21,
   "id": "bd9ee5b7",
   "metadata": {},
   "outputs": [],
   "source": [
    "combined = combined.merge(user_prod_feats, on=['user_id', 'product_id'], how='left')\n",
    "combined = combined.merge(product_feats, on='product_id', how='left')"
   ]
  },
  {
   "cell_type": "code",
   "execution_count": 22,
   "id": "f8edb6e8",
   "metadata": {},
   "outputs": [
    {
     "data": {
      "text/plain": [
       "0"
      ]
     },
     "execution_count": 22,
     "metadata": {},
     "output_type": "execute_result"
    }
   ],
   "source": [
    "del user_prod_feats, product_feats\n",
    "gc.collect()"
   ]
  },
  {
   "cell_type": "code",
   "execution_count": null,
   "id": "51b9d8c8",
   "metadata": {},
   "outputs": [],
   "source": [
    "combined.fillna(0, inplace=True)  # reemplazar con 0 los valores vacíos donde nunca hubo tal combinación de usuario y producto"
   ]
  },
  {
   "cell_type": "code",
   "execution_count": null,
   "id": "92e0c77a",
   "metadata": {},
   "outputs": [],
   "source": [
    "df = combined\n",
    "\n",
    "# creamos nuevas features que dan una nota en base a que tan similares son \n",
    "# las características de ordenes pasadas a las características de las actuales\n",
    "\n",
    "# features de usuario-producto\n",
    "df['match_common_hour'] = abs(df['order_hour_of_day'] - df['common_hour']).astype(int)\n",
    "df['match_days_between'] = abs(df['days_since_prior_order'] - df['avg_days_between_orders']).astype(int)\n",
    "df['within_days_std'] = (\n",
    "    (df['days_since_prior_order'] >= df['avg_days_between_orders'] - df['std_days_between_orders']) &\n",
    "    (df['days_since_prior_order'] <= df['avg_days_between_orders'] + df['std_days_between_orders'])\n",
    ").astype(int)\n",
    "df['match_most_common_day'] = abs(df['order_dow'] - df['most_common_day']).astype(int)\n",
    "df['match_common_cart_pos'] = abs(df['add_to_cart_order'] - df['common_cart_pos']).astype(int)\n",
    "df['match_avg_hour'] = abs(df['order_hour_of_day'] - df['avg_hour']).astype(int)\n",
    "df['within_hour_std'] = (\n",
    "    (df['order_hour_of_day'] >= df['avg_hour'] - df['std_hour']) &\n",
    "    (df['order_hour_of_day'] <= df['avg_hour'] + df['std_hour'])\n",
    ").astype(int)\n",
    "df['user_strength'] = df['order_count'] / df['order_count'].max()\n",
    "\n",
    "\n",
    "# features específicas al producto\n",
    "df['match_prod_common_cart_pos'] = abs(df['add_to_cart_order'] - df['prod_common_cart_position']).astype(int)\n",
    "df['match_prod_common_hour'] = abs(df['order_hour_of_day'] - df['prod_common_hour']).astype(int)\n",
    "df['match_prod_avg_hour'] = abs(df['order_hour_of_day'] - df['prod_avg_hour']).astype(int)\n",
    "df['match_prod_common_day'] = abs(df['order_dow'] - df['prod_common_day']).astype(int)\n",
    "df['within_prod_hour_std'] = (\n",
    "    (df['order_hour_of_day'] >= df['prod_avg_hour'] - df['prod_std_hour']) &\n",
    "    (df['order_hour_of_day'] <= df['prod_avg_hour'] + df['prod_std_hour'])\n",
    ").astype(int)\n",
    "df['product_strength'] = df['prod_total_orders'] / df['prod_total_orders'].max()"
   ]
  },
  {
   "cell_type": "code",
   "execution_count": 25,
   "id": "6ef667cc",
   "metadata": {},
   "outputs": [
    {
     "data": {
      "text/plain": [
       "0"
      ]
     },
     "execution_count": 25,
     "metadata": {},
     "output_type": "execute_result"
    }
   ],
   "source": [
    "del combined, prior\n",
    "gc.collect()"
   ]
  },
  {
   "cell_type": "code",
   "execution_count": null,
   "id": "e4787dc1",
   "metadata": {},
   "outputs": [
    {
     "name": "stdout",
     "output_type": "stream",
     "text": [
      "\n",
      "===== DataFrame: df =====\n",
      "Shape: (294630, 36)\n",
      "Memory usage: 80.92 MB\n"
     ]
    }
   ],
   "source": [
    "# usar para ver que dataframes están en la memoria en el momento, su peso y sus dimensiones\n",
    "# en este punto solo se necesita df\n",
    "for name, obj in globals().items():\n",
    "    if isinstance(obj, pd.DataFrame):\n",
    "        print(f\"\\n===== DataFrame: {name} =====\")\n",
    "        print(f\"Shape: {obj.shape}\")\n",
    "        print(f\"Memory usage: {obj.memory_usage().sum() / 1024**2:.2f} MB\")"
   ]
  },
  {
   "cell_type": "code",
   "execution_count": null,
   "id": "b3949c2e",
   "metadata": {},
   "outputs": [
    {
     "name": "stdout",
     "output_type": "stream",
     "text": [
      "Index(['order_id', 'product_id', 'add_to_cart_order', 'user_id', 'order_dow',\n",
      "       'order_hour_of_day', 'days_since_prior_order', 'label',\n",
      "       'most_common_day', 'common_hour', 'avg_hour', 'std_hour', 'order_count',\n",
      "       'common_cart_pos', 'avg_days_between_orders', 'std_days_between_orders',\n",
      "       'prod_total_orders', 'prod_common_cart_position', 'prod_common_hour',\n",
      "       'prod_avg_hour', 'prod_std_hour', 'prod_common_day',\n",
      "       'match_common_hour', 'match_days_between', 'within_days_std',\n",
      "       'match_most_common_day', 'match_common_cart_pos', 'match_avg_hour',\n",
      "       'within_hour_std', 'match_prod_common_cart_pos',\n",
      "       'match_prod_common_hour', 'match_prod_avg_hour',\n",
      "       'match_prod_common_day', 'within_prod_hour_std', 'user_strength',\n",
      "       'product_strength'],\n",
      "      dtype='object')\n"
     ]
    }
   ],
   "source": [
    "print(df.columns) # vemos las columnas"
   ]
  },
  {
   "cell_type": "code",
   "execution_count": null,
   "id": "9b183bd6",
   "metadata": {},
   "outputs": [
    {
     "data": {
      "text/plain": [
       "0"
      ]
     },
     "execution_count": 28,
     "metadata": {},
     "output_type": "execute_result"
    }
   ],
   "source": [
    "# quitamos todas las columnas menos las que dan un puntaje de similitud\n",
    "training_df = df.drop(['order_id', 'add_to_cart_order', 'order_dow', 'order_hour_of_day',\n",
    "       'days_since_prior_order', 'most_common_day', 'common_hour',\n",
    "       'avg_hour', 'std_hour', 'order_count', 'common_cart_pos',\n",
    "       'avg_days_between_orders', 'std_days_between_orders', 'prod_total_orders',\n",
    "       'prod_common_cart_position', 'prod_common_hour', 'prod_avg_hour',\n",
    "       'prod_std_hour', 'prod_common_day', 'user_strength'], axis = 1)\n",
    "del df\n",
    "gc.collect()"
   ]
  },
  {
   "cell_type": "code",
   "execution_count": null,
   "id": "eff1f011",
   "metadata": {},
   "outputs": [
    {
     "name": "stdout",
     "output_type": "stream",
     "text": [
      "Index(['product_id', 'user_id', 'label', 'match_common_hour',\n",
      "       'match_days_between', 'within_days_std', 'match_most_common_day',\n",
      "       'match_common_cart_pos', 'match_avg_hour', 'within_hour_std',\n",
      "       'match_prod_common_cart_pos', 'match_prod_common_hour',\n",
      "       'match_prod_avg_hour', 'match_prod_common_day', 'within_prod_hour_std',\n",
      "       'product_strength'],\n",
      "      dtype='object')\n"
     ]
    }
   ],
   "source": [
    "print(training_df.columns)"
   ]
  },
  {
   "cell_type": "code",
   "execution_count": null,
   "id": "49349160",
   "metadata": {},
   "outputs": [],
   "source": [
    "# si uno quiere que solo tomando en cuenta las características del producto\n",
    "#training_df = training_df.drop(['match_common_hour',\n",
    "#       'match_days_between', 'within_days_std', 'match_most_common_day',\n",
    "#       'match_common_cart_pos', 'match_avg_hour', 'within_hour_std'],axis = 1)"
   ]
  },
  {
   "cell_type": "code",
   "execution_count": null,
   "id": "cba50b16",
   "metadata": {},
   "outputs": [
    {
     "name": "stdout",
     "output_type": "stream",
     "text": [
      "Training until validation scores don't improve for 40 rounds\n",
      "[10]\tvalid_0's auc: 0.993663\n",
      "[20]\tvalid_0's auc: 0.993691\n",
      "[30]\tvalid_0's auc: 0.993708\n",
      "[40]\tvalid_0's auc: 0.993712\n",
      "[50]\tvalid_0's auc: 0.99373\n",
      "[60]\tvalid_0's auc: 0.993733\n",
      "[70]\tvalid_0's auc: 0.993798\n",
      "[80]\tvalid_0's auc: 0.993796\n",
      "[90]\tvalid_0's auc: 0.993783\n",
      "[100]\tvalid_0's auc: 0.993791\n",
      "Did not meet early stopping. Best iteration is:\n",
      "[70]\tvalid_0's auc: 0.993798\n"
     ]
    }
   ],
   "source": [
    "import lightgbm as lgb\n",
    "from sklearn.model_selection import train_test_split\n",
    "\n",
    "# mantenemos una copia de estas dos columnas por si se quiera hacer un análisis mas tarde\n",
    "meta = training_df[['user_id', 'product_id']].copy()\n",
    "\n",
    "# creamos las training features y labels \n",
    "features = [col for col in training_df.columns if col not in ['user_id', 'product_id', 'label']]\n",
    "X = training_df[features]\n",
    "y = training_df['label']\n",
    "\n",
    "# Train/test split \n",
    "X_train, X_val, y_train, y_val, meta_train, meta_val = train_test_split(\n",
    "    X, y, meta, stratify=y, test_size=0.2, random_state=42\n",
    ")\n",
    "\n",
    "\n",
    "train_data = lgb.Dataset(X_train, label=y_train)\n",
    "val_data = lgb.Dataset(X_val, label=y_val)\n",
    "\n",
    "params = {\n",
    "    'objective': 'binary',\n",
    "    'metric': 'auc',\n",
    "    'boosting_type': 'gbdt',\n",
    "    'verbosity': -1,\n",
    "    'num_leaves': 63,\n",
    "    'learning_rate': 0.05,\n",
    "}\n",
    "\n",
    "model = lgb.train(\n",
    "    params,\n",
    "    train_data,\n",
    "    valid_sets=[val_data],\n",
    "    callbacks=[\n",
    "        lgb.early_stopping(stopping_rounds=40),\n",
    "        lgb.log_evaluation(period=10)\n",
    "    ]\n",
    ")\n",
    "\n",
    "\n"
   ]
  },
  {
   "cell_type": "code",
   "execution_count": null,
   "id": "fe494fa1",
   "metadata": {},
   "outputs": [],
   "source": [
    "X_val['pred_score'] = model.predict(X_val[features]) "
   ]
  },
  {
   "cell_type": "code",
   "execution_count": 41,
   "id": "e206e9ab",
   "metadata": {},
   "outputs": [
    {
     "name": "stdout",
     "output_type": "stream",
     "text": [
      "111150    1\n",
      "181222    1\n",
      "209136    0\n",
      "199244    1\n",
      "266635    0\n",
      "Name: label, dtype: int64\n"
     ]
    }
   ],
   "source": [
    "print(y_val.head())"
   ]
  },
  {
   "cell_type": "code",
   "execution_count": null,
   "id": "3df29ec3",
   "metadata": {},
   "outputs": [
    {
     "name": "stdout",
     "output_type": "stream",
     "text": [
      "Accuracy: 0.9673828191290772\n",
      "Precision: 0.9854411014788373\n",
      "Recall: 0.966225\n",
      "F1 Score: 0.9757384498863924\n",
      "ROC AUC: 0.9937981295572228\n"
     ]
    }
   ],
   "source": [
    "from sklearn.metrics import accuracy_score, precision_score, recall_score, f1_score, roc_auc_score\n",
    "\n",
    "# predice 0 o 1 usando 0.5 como límite\n",
    "X_val['pred_label'] = (X_val['pred_score'] >= 0.5).astype(int)\n",
    "\n",
    "# Ground truth\n",
    "y_true = y_val.values\n",
    "y_pred = X_val['pred_label'].values\n",
    "y_score = X_val['pred_score'].values\n",
    "\n",
    "# evaluar el modelo\n",
    "print(\"Accuracy:\", accuracy_score(y_true, y_pred))\n",
    "print(\"Precision:\", precision_score(y_true, y_pred))\n",
    "print(\"Recall:\", recall_score(y_true, y_pred))\n",
    "print(\"F1 Score:\", f1_score(y_true, y_pred))\n",
    "print(\"ROC AUC:\", roc_auc_score(y_true, y_score))  # usar puntaje real\n"
   ]
  },
  {
   "cell_type": "code",
   "execution_count": null,
   "id": "3f6ef821",
   "metadata": {},
   "outputs": [
    {
     "data": {
      "text/plain": [
       "label\n",
       "1    0.678817\n",
       "0    0.321183\n",
       "Name: proportion, dtype: float64"
      ]
     },
     "execution_count": 35,
     "metadata": {},
     "output_type": "execute_result"
    }
   ],
   "source": [
    "y_val.value_counts(normalize=True) # nos aseguramos de que sea balanceado el data set\n"
   ]
  },
  {
   "cell_type": "code",
   "execution_count": null,
   "id": "3b5c70ee",
   "metadata": {},
   "outputs": [
    {
     "data": {
      "text/plain": [
       "<Axes: title={'center': 'Feature importance'}, xlabel='Feature importance', ylabel='Features'>"
      ]
     },
     "execution_count": 36,
     "metadata": {},
     "output_type": "execute_result"
    },
    {
     "data": {
      "image/png": "[encoded data removed]",
      "text/plain": [
       "<Figure size 640x480 with 1 Axes>"
      ]
     },
     "metadata": {},
     "output_type": "display_data"
    }
   ],
   "source": [
    "lgb.plot_importance(model, importance_type='split')  # importancia de las features en base a particiones\n",
    "\n"
   ]
  },
  {
   "cell_type": "code",
   "execution_count": null,
   "id": "8fc300b7",
   "metadata": {},
   "outputs": [
    {
     "data": {
      "text/plain": [
       "<Axes: title={'center': 'Feature importance'}, xlabel='Feature importance', ylabel='Features'>"
      ]
     },
     "execution_count": 37,
     "metadata": {},
     "output_type": "execute_result"
    },
    {
     "data": {
      "image/png": "[encoded data removed]",
      "text/plain": [
       "<Figure size 640x480 with 1 Axes>"
      ]
     },
     "metadata": {},
     "output_type": "display_data"
    }
   ],
   "source": [
    "lgb.plot_importance(model, importance_type='gain')   # en base a ganacia"
   ]
  }
 ],
 "metadata": {
  "kernelspec": {
   "display_name": "Python 3",
   "language": "python",
   "name": "python3"
  },
  "language_info": {
   "codemirror_mode": {
    "name": "ipython",
    "version": 3
   },
   "file_extension": ".py",
   "mimetype": "text/x-python",
   "name": "python",
   "nbconvert_exporter": "python",
   "pygments_lexer": "ipython3",
   "version": "3.13.2"
  }
 },
 "nbformat": 4,
 "nbformat_minor": 5
}
